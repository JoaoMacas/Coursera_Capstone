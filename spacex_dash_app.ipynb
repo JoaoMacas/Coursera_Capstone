{
 "cells": [
  {
   "cell_type": "code",
   "execution_count": null,
   "id": "df9f58b8-fe05-4492-bf6a-c9bad993c247",
   "metadata": {},
   "outputs": [],
   "source": [
    "# Import required libraries\n",
    "import pandas as pd\n",
    "import dash\n",
    "import dash_html_components as html\n",
    "import dash_core_components as dcc\n",
    "from dash.dependencies import Input, Output\n",
    "import plotly.express as px\n",
    "\n",
    "# Read the airline data into pandas dataframe\n",
    "spacex_df = pd.read_csv(\"spacex_launch_dash.csv\")\n",
    "max_payload = spacex_df['Payload Mass (kg)'].max()\n",
    "min_payload = spacex_df['Payload Mass (kg)'].min()\n",
    "\n",
    "# Create a dash application\n",
    "app = dash.Dash(__name__)\n",
    "\n",
    "# Create an app layout\n",
    "app.layout = html.Div(children=[html.H1('SpaceX Launch Records Dashboard',\n",
    "                                        style={'textAlign': 'center', 'color': '#503D36',\n",
    "                                               'font-size': 40}),\n",
    "                                # TASK 1: Add a dropdown list to enable Launch Site selection\n",
    "                                # The default select value is for ALL sites\n",
    "                                dcc.Dropdown(id='site-dropdown',\n",
    "                                    options=[\n",
    "                                            {'label': 'All Sites', 'value': 'ALL'},\n",
    "                                            {'label': 'CCAFS LC-40', 'value': 'CCAFS LC-40'},\n",
    "                                            {'label': 'VAFB SLC-4E', 'value': 'VAFB SLC-4E'},\n",
    "                                            {'label': 'KSC LC-39A', 'value': 'KSC LC-39A'},\n",
    "                                            {'label': 'CCAFS SLC-40', 'value': 'CCAFS SLC-40'},\n",
    "                                    ],\n",
    "                                        value= 'ALL',\n",
    "                                        placeholder='Select a Launch Site Here',\n",
    "                                        searchable=True),\n",
    "                                html.Br(),\n",
    "\n",
    "                                # TASK 2: Add a pie chart to show the total successful launches count for all sites\n",
    "                                # If a specific launch site was selected, show the Success vs. Failed counts for the site\n",
    "                                html.Div(dcc.Graph(id='success-pie-chart')),\n",
    "                                html.Br(),\n",
    "\n",
    "                                html.P(\"Payload range (Kg):\"),\n",
    "                                # TASK 3: Add a slider to select payload range\n",
    "                                dcc.RangeSlider(id='payload-slider',\n",
    "                                                min=0, max=10000, step=1000,\n",
    "                                                marks={\n",
    "                                                    0: '0 Kg',\n",
    "                                                    2500: '2500 Kg',\n",
    "                                                    5000: '5000 Kg',\n",
    "                                                    7500: '7500 Kg',\n",
    "                                                    10000: '10000 Kg',\n",
    "                                                    },\n",
    "                                                value=[min_payload, max_payload]),\n",
    "\n",
    "                                # TASK 4: Add a scatter chart to show the correlation between payload and launch success\n",
    "                                html.Div(dcc.Graph(id='success-payload-scatter-chart')),\n",
    "                                ])\n",
    "\n",
    "# TASK 2:\n",
    "# Add a callback function for `site-dropdown` as input, `success-pie-chart` as output\n",
    "@app.callback(Output(component_id='success-pie-chart', component_property='figure'),\n",
    "              Input(component_id='site-dropdown', component_property='value'))\n",
    "def get_pie_chart(entered_site):\n",
    "    filtered_df = spacex_df\n",
    "    if entered_site == 'ALL':\n",
    "        fig = px.pie(filtered_df, values='class', names='Launch Site', title='Success Launches for All Sites')\n",
    "        return fig\n",
    "    else:\n",
    "        # return the outcomes piechart for a selected site\n",
    "        filtered_df = spacex_df[spacex_df['Launch Site'] == entered_site].groupby(['Launch Site', 'class']). \\\n",
    "        size().reset_index(name='class count')\n",
    "        title = f\"Total Success Launches for site {entered_site}\"\n",
    "        fig = px.pie(filtered_df,values='class count', names='class', title=title)\n",
    "        return fig\n",
    "\n",
    "# TASK 4:\n",
    "# Add a callback function for `site-dropdown` and `payload-slider` as inputs, `success-payload-scatter-chart` as output\n",
    "@app.callback(Output(component_id='success-payload-scatter-chart', component_property='figure'),\n",
    "             [Input(component_id='site-dropdown', component_property='value'),\n",
    "              Input(component_id='payload-slider', component_property='value')]\n",
    "              )\n",
    "def get_scatter_chart(entered_site, slider_range):\n",
    "    low, high = slider_range\n",
    "    filtered_df_s = spacex_df[(spacex_df['Payload Mass (kg)'] > low) & (spacex_df['Payload Mass (kg)'] < high)]\n",
    "    if entered_site == 'ALL':\n",
    "        scatter_fig = px.scatter(filtered_df_s, x=\"Payload Mass (kg)\", y=\"class\", color=\"Booster Version Category\",\n",
    "        title='Correlation between Payload and Success for all Sites')\n",
    "        return scatter_fig\n",
    "    else:\n",
    "        filtered_df_s_s = filtered_df_s[(filtered_df_s['Launch Site'] == entered_site)]\n",
    "        scatter_fig = px.scatter(filtered_df_s_s, x=\"Payload Mass (kg)\", y=\"class\", color=\"Booster Version Category\",\n",
    "        title = f\"Correlation between Payload and Success for Site {entered_site}\")\n",
    "        return scatter_fig\n",
    "\n",
    "# Run the app\n",
    "if __name__ == '__main__':\n",
    "    app.run_server()\n"
   ]
  },
  {
   "cell_type": "markdown",
   "id": "140867c7-3b68-437b-9dc0-9cf1d0df7210",
   "metadata": {},
   "source": [
    "### Success Launches for All Sites  \n",
    "<img src=\"PlotlyDash-SuccessLaunchesForAllSites.png\" width=1000 height=1000 />"
   ]
  },
  {
   "cell_type": "markdown",
   "id": "7965485a-0c22-402b-b50d-2b5829777d6d",
   "metadata": {},
   "source": [
    "### Total Success Launches For Site CCAFS LC-40  \n",
    "<img src=\"PlotlyDash-TotalSuccessLaunchesForSiteCCAFS_LC-40.png\" width=1000 height=1000 />"
   ]
  },
  {
   "cell_type": "markdown",
   "id": "1f50ed36-cd38-4eaf-9242-e96c60509ce0",
   "metadata": {},
   "source": [
    "### Total Success Launches For Site VAFB SLC-4E  \n",
    "<img src=\"PlotlyDash-TotalSuccessLaunchesForSiteVAFB_SLC-4E.png\" width=1000 height=1000 />"
   ]
  },
  {
   "cell_type": "markdown",
   "id": "34618ece-e18f-49fe-8e0d-0a7d947c1c3a",
   "metadata": {},
   "source": [
    "### Total Success Launches For Site KSC LC-39A  \n",
    "<img src=\"PlotlyDash-TotalSuccessLaunchesForSiteKSC_LC-39A.png\" width=1000 height=1000 />"
   ]
  },
  {
   "cell_type": "markdown",
   "id": "9b0a6b85-f2fc-4885-a470-43b0b6edddd1",
   "metadata": {},
   "source": [
    "### Total Success Launches For Site CCAFS SLC-40  \n",
    "<img src=\"PlotlyDash-TotalSuccessLaunchesForSiteCCAFS_SLC-40.png\" width=1000 height=1000 />"
   ]
  },
  {
   "cell_type": "markdown",
   "id": "1be88749-fab1-48b1-b8f0-ee8794b19f27",
   "metadata": {},
   "source": [
    "## Payload vs. Launch Outcome for all sites - Payload beyween 0 and 5000\n",
    "<img src=\"PlotlyDash-DashboardComplete_0-5000.png\" width=1000 height=1000 />"
   ]
  },
  {
   "cell_type": "markdown",
   "id": "e72895d9-04ce-48cb-8c77-16367c881685",
   "metadata": {},
   "source": [
    "## Payload vs. Launch Outcome for all sites - Payload beyween 2500 and 7500\n",
    "<img src=\"PlotlyDash-DashboardComplete_2500-7500.png\" width=1000 height=1000 />"
   ]
  },
  {
   "cell_type": "markdown",
   "id": "bcf5e9a8-b500-411f-9751-7f1c359e4edb",
   "metadata": {},
   "source": [
    "## Payload vs. Launch Outcome for all sites - Payload beyween 5000 and 10000\n",
    "<img src=\"PlotlyDash-DashboardComplete_5000-10000.png\" width=1000 height=1000 />"
   ]
  },
  {
   "cell_type": "markdown",
   "id": "16384183-1770-42f2-afef-12387831b218",
   "metadata": {},
   "source": [
    "## Payload vs. Launch Outcome for all sites - All Payloads\n",
    "<img src=\"PlotlyDash-DashboardComplete_small.png\" width=1000 height=1000 />"
   ]
  },
  {
   "cell_type": "markdown",
   "id": "e48186f7-50a0-445a-9c07-470eb2d17012",
   "metadata": {},
   "source": [
    "## Payload vs. Launch Outcome for all sites - Payload beyween 2000 and 6000\n",
    "<img src=\"PlotlyDash-DashboardComplete_2000-6000.png\" width=1000 height=1000 />"
   ]
  },
  {
   "cell_type": "code",
   "execution_count": null,
   "id": "74b41ae6-f897-41d4-8389-750323d9f1a1",
   "metadata": {},
   "outputs": [],
   "source": []
  }
 ],
 "metadata": {
  "kernelspec": {
   "display_name": "Python 3 (ipykernel)",
   "language": "python",
   "name": "python3"
  },
  "language_info": {
   "codemirror_mode": {
    "name": "ipython",
    "version": 3
   },
   "file_extension": ".py",
   "mimetype": "text/x-python",
   "name": "python",
   "nbconvert_exporter": "python",
   "pygments_lexer": "ipython3",
   "version": "3.7.1"
  }
 },
 "nbformat": 4,
 "nbformat_minor": 5
}
